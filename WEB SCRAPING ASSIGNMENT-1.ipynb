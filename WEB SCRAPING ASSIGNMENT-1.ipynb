{
 "cells": [
  {
   "cell_type": "markdown",
   "metadata": {},
   "source": [
    "# Web Scraping Aassignment 1"
   ]
  },
  {
   "cell_type": "code",
   "execution_count": 30,
   "metadata": {},
   "outputs": [],
   "source": [
    "# Importing required libraries\n",
    "from bs4 import BeautifulSoup\n",
    "import requests"
   ]
  },
  {
   "cell_type": "markdown",
   "metadata": {},
   "source": [
    "## 1. Write a python program to display all the header tags from ‘en.wikipedia.org/wiki/Main_Page’."
   ]
  },
  {
   "cell_type": "code",
   "execution_count": 31,
   "metadata": {},
   "outputs": [
    {
     "name": "stdout",
     "output_type": "stream",
     "text": [
      "<Response [200]>\n"
     ]
    },
    {
     "data": {
      "application/javascript": [
       "\n",
       "        if (window._pyforest_update_imports_cell) { window._pyforest_update_imports_cell('import pandas as pd\\nimport numpy as np'); }\n",
       "    "
      ],
      "text/plain": [
       "<IPython.core.display.Javascript object>"
      ]
     },
     "metadata": {},
     "output_type": "display_data"
    }
   ],
   "source": [
    "# Function to scrape all headers\n",
    "def sc_header(url = None):\n",
    "    page = requests.get(url)\n",
    "    print(page)\n",
    "    data = page.text\n",
    "    soup = BeautifulSoup(data, 'lxml')\n",
    "    first_header = soup.find_all([f'h{i}' for i in range(1,10) ])\n",
    "    headers = []\n",
    "    for i in first_header:\n",
    "        headers.append(i.text.replace('\\n',\"\"))\n",
    "        \n",
    "    df = pd.DataFrame({})\n",
    "    df['headers'] = headers[:]\n",
    "    return(df.to_csv('Project_1.csv'))\n",
    "# Calling the function\n",
    "sc_header(url = \"http://en.wikipedia.org/wiki/Main_Page\")"
   ]
  },
  {
   "cell_type": "code",
   "execution_count": 32,
   "metadata": {},
   "outputs": [
    {
     "data": {
      "application/javascript": [
       "\n",
       "        if (window._pyforest_update_imports_cell) { window._pyforest_update_imports_cell('import pandas as pd\\nimport numpy as np'); }\n",
       "    "
      ],
      "text/plain": [
       "<IPython.core.display.Javascript object>"
      ]
     },
     "metadata": {},
     "output_type": "display_data"
    },
    {
     "data": {
      "text/html": [
       "<div>\n",
       "<style scoped>\n",
       "    .dataframe tbody tr th:only-of-type {\n",
       "        vertical-align: middle;\n",
       "    }\n",
       "\n",
       "    .dataframe tbody tr th {\n",
       "        vertical-align: top;\n",
       "    }\n",
       "\n",
       "    .dataframe thead th {\n",
       "        text-align: right;\n",
       "    }\n",
       "</style>\n",
       "<table border=\"1\" class=\"dataframe\">\n",
       "  <thead>\n",
       "    <tr style=\"text-align: right;\">\n",
       "      <th></th>\n",
       "      <th>headers</th>\n",
       "    </tr>\n",
       "  </thead>\n",
       "  <tbody>\n",
       "    <tr>\n",
       "      <th>0</th>\n",
       "      <td>Main Page</td>\n",
       "    </tr>\n",
       "    <tr>\n",
       "      <th>1</th>\n",
       "      <td>From today's featured article</td>\n",
       "    </tr>\n",
       "    <tr>\n",
       "      <th>2</th>\n",
       "      <td>Did you know ...</td>\n",
       "    </tr>\n",
       "    <tr>\n",
       "      <th>3</th>\n",
       "      <td>In the news</td>\n",
       "    </tr>\n",
       "    <tr>\n",
       "      <th>4</th>\n",
       "      <td>On this day</td>\n",
       "    </tr>\n",
       "    <tr>\n",
       "      <th>5</th>\n",
       "      <td>From today's featured list</td>\n",
       "    </tr>\n",
       "    <tr>\n",
       "      <th>6</th>\n",
       "      <td>Today's featured picture</td>\n",
       "    </tr>\n",
       "    <tr>\n",
       "      <th>7</th>\n",
       "      <td>Other areas of Wikipedia</td>\n",
       "    </tr>\n",
       "    <tr>\n",
       "      <th>8</th>\n",
       "      <td>Wikipedia's sister projects</td>\n",
       "    </tr>\n",
       "    <tr>\n",
       "      <th>9</th>\n",
       "      <td>Wikipedia languages</td>\n",
       "    </tr>\n",
       "    <tr>\n",
       "      <th>10</th>\n",
       "      <td>Navigation menu</td>\n",
       "    </tr>\n",
       "    <tr>\n",
       "      <th>11</th>\n",
       "      <td>Personal tools</td>\n",
       "    </tr>\n",
       "    <tr>\n",
       "      <th>12</th>\n",
       "      <td>Namespaces</td>\n",
       "    </tr>\n",
       "    <tr>\n",
       "      <th>13</th>\n",
       "      <td>Variants</td>\n",
       "    </tr>\n",
       "    <tr>\n",
       "      <th>14</th>\n",
       "      <td>Views</td>\n",
       "    </tr>\n",
       "    <tr>\n",
       "      <th>15</th>\n",
       "      <td>More</td>\n",
       "    </tr>\n",
       "    <tr>\n",
       "      <th>16</th>\n",
       "      <td>Search</td>\n",
       "    </tr>\n",
       "    <tr>\n",
       "      <th>17</th>\n",
       "      <td>Navigation</td>\n",
       "    </tr>\n",
       "    <tr>\n",
       "      <th>18</th>\n",
       "      <td>Contribute</td>\n",
       "    </tr>\n",
       "    <tr>\n",
       "      <th>19</th>\n",
       "      <td>Tools</td>\n",
       "    </tr>\n",
       "    <tr>\n",
       "      <th>20</th>\n",
       "      <td>Print/export</td>\n",
       "    </tr>\n",
       "    <tr>\n",
       "      <th>21</th>\n",
       "      <td>In other projects</td>\n",
       "    </tr>\n",
       "    <tr>\n",
       "      <th>22</th>\n",
       "      <td>Languages</td>\n",
       "    </tr>\n",
       "  </tbody>\n",
       "</table>\n",
       "</div>"
      ],
      "text/plain": [
       "                          headers\n",
       "0                       Main Page\n",
       "1   From today's featured article\n",
       "2                Did you know ...\n",
       "3                     In the news\n",
       "4                     On this day\n",
       "5      From today's featured list\n",
       "6        Today's featured picture\n",
       "7        Other areas of Wikipedia\n",
       "8     Wikipedia's sister projects\n",
       "9             Wikipedia languages\n",
       "10                Navigation menu\n",
       "11                 Personal tools\n",
       "12                     Namespaces\n",
       "13                       Variants\n",
       "14                          Views\n",
       "15                           More\n",
       "16                         Search\n",
       "17                     Navigation\n",
       "18                     Contribute\n",
       "19                          Tools\n",
       "20                   Print/export\n",
       "21              In other projects\n",
       "22                      Languages"
      ]
     },
     "execution_count": 32,
     "metadata": {},
     "output_type": "execute_result"
    }
   ],
   "source": [
    "header = pd.read_csv('Project_1.csv')\n",
    "header.drop('Unnamed: 0',axis = 1)"
   ]
  },
  {
   "cell_type": "markdown",
   "metadata": {},
   "source": [
    "## 2. Write a python program to display IMDB’s Top rated 100 movies’ data (i.e. Name, IMDB rating, Year of release) and save it in form of a CSV file. "
   ]
  },
  {
   "cell_type": "code",
   "execution_count": 33,
   "metadata": {},
   "outputs": [
    {
     "data": {
      "application/javascript": [
       "\n",
       "        if (window._pyforest_update_imports_cell) { window._pyforest_update_imports_cell('import pandas as pd\\nimport numpy as np'); }\n",
       "    "
      ],
      "text/plain": [
       "<IPython.core.display.Javascript object>"
      ]
     },
     "metadata": {},
     "output_type": "display_data"
    }
   ],
   "source": [
    "# Function to scrape top rated Movie names, IMDB ratings & Year of release\n",
    "def movie_scrape(url = None):\n",
    "    page = requests.get(url)\n",
    "    data = page.text\n",
    "    soup = BeautifulSoup(data, 'html.parser')\n",
    "    r = soup.find_all('td', class_='ratingColumn imdbRating')\n",
    "    m_name = [x.a.text for x in soup.find_all('td', class_ = \"titleColumn\")]\n",
    "    y = [x.text for x in soup.find_all('span', class_='secondaryInfo')]\n",
    "    name = []\n",
    "    rating = []\n",
    "    year = []\n",
    "    for i in m_name:\n",
    "        name.append(i.replace('\\n',\"\"))\n",
    "    for j in y:\n",
    "        year.append(j)\n",
    "    for k in r:\n",
    "        rating.append(k.text.replace('\\n',\"\"))\n",
    "    df = pd.DataFrame({})\n",
    "    df['Movie_Name'] = name[:100]\n",
    "    df['Year of Release']= year[:100]\n",
    "    df['Year of Release'] = df['Year of Release'].str.extract('(\\d+)')\n",
    "    df['Rating'] = rating[:100]\n",
    "    return(df.to_csv('Project_2.csv'))\n",
    "    \n",
    "# Calling the function\n",
    "movie_scrape(url = \"https://www.imdb.com/chart/top/?ref_=nv_mv_250\")"
   ]
  },
  {
   "cell_type": "code",
   "execution_count": 34,
   "metadata": {},
   "outputs": [
    {
     "data": {
      "application/javascript": [
       "\n",
       "        if (window._pyforest_update_imports_cell) { window._pyforest_update_imports_cell('import pandas as pd\\nimport numpy as np'); }\n",
       "    "
      ],
      "text/plain": [
       "<IPython.core.display.Javascript object>"
      ]
     },
     "metadata": {},
     "output_type": "display_data"
    },
    {
     "data": {
      "text/html": [
       "<div>\n",
       "<style scoped>\n",
       "    .dataframe tbody tr th:only-of-type {\n",
       "        vertical-align: middle;\n",
       "    }\n",
       "\n",
       "    .dataframe tbody tr th {\n",
       "        vertical-align: top;\n",
       "    }\n",
       "\n",
       "    .dataframe thead th {\n",
       "        text-align: right;\n",
       "    }\n",
       "</style>\n",
       "<table border=\"1\" class=\"dataframe\">\n",
       "  <thead>\n",
       "    <tr style=\"text-align: right;\">\n",
       "      <th></th>\n",
       "      <th>Movie_Name</th>\n",
       "      <th>Year of Release</th>\n",
       "      <th>Rating</th>\n",
       "    </tr>\n",
       "  </thead>\n",
       "  <tbody>\n",
       "    <tr>\n",
       "      <th>0</th>\n",
       "      <td>The Shawshank Redemption</td>\n",
       "      <td>1994</td>\n",
       "      <td>9.2</td>\n",
       "    </tr>\n",
       "    <tr>\n",
       "      <th>1</th>\n",
       "      <td>The Godfather</td>\n",
       "      <td>1972</td>\n",
       "      <td>9.1</td>\n",
       "    </tr>\n",
       "    <tr>\n",
       "      <th>2</th>\n",
       "      <td>The Godfather: Part II</td>\n",
       "      <td>1974</td>\n",
       "      <td>9.0</td>\n",
       "    </tr>\n",
       "    <tr>\n",
       "      <th>3</th>\n",
       "      <td>The Dark Knight</td>\n",
       "      <td>2008</td>\n",
       "      <td>9.0</td>\n",
       "    </tr>\n",
       "    <tr>\n",
       "      <th>4</th>\n",
       "      <td>12 Angry Men</td>\n",
       "      <td>1957</td>\n",
       "      <td>8.9</td>\n",
       "    </tr>\n",
       "    <tr>\n",
       "      <th>...</th>\n",
       "      <td>...</td>\n",
       "      <td>...</td>\n",
       "      <td>...</td>\n",
       "    </tr>\n",
       "    <tr>\n",
       "      <th>95</th>\n",
       "      <td>Citizen Kane</td>\n",
       "      <td>1941</td>\n",
       "      <td>8.3</td>\n",
       "    </tr>\n",
       "    <tr>\n",
       "      <th>96</th>\n",
       "      <td>Dangal</td>\n",
       "      <td>2016</td>\n",
       "      <td>8.3</td>\n",
       "    </tr>\n",
       "    <tr>\n",
       "      <th>97</th>\n",
       "      <td>Singin' in the Rain</td>\n",
       "      <td>1952</td>\n",
       "      <td>8.2</td>\n",
       "    </tr>\n",
       "    <tr>\n",
       "      <th>98</th>\n",
       "      <td>The Kid</td>\n",
       "      <td>1921</td>\n",
       "      <td>8.2</td>\n",
       "    </tr>\n",
       "    <tr>\n",
       "      <th>99</th>\n",
       "      <td>Ladri di biciclette</td>\n",
       "      <td>1948</td>\n",
       "      <td>8.2</td>\n",
       "    </tr>\n",
       "  </tbody>\n",
       "</table>\n",
       "<p>100 rows × 3 columns</p>\n",
       "</div>"
      ],
      "text/plain": [
       "                  Movie_Name  Year of Release  Rating\n",
       "0   The Shawshank Redemption             1994     9.2\n",
       "1              The Godfather             1972     9.1\n",
       "2     The Godfather: Part II             1974     9.0\n",
       "3            The Dark Knight             2008     9.0\n",
       "4               12 Angry Men             1957     8.9\n",
       "..                       ...              ...     ...\n",
       "95              Citizen Kane             1941     8.3\n",
       "96                    Dangal             2016     8.3\n",
       "97       Singin' in the Rain             1952     8.2\n",
       "98                   The Kid             1921     8.2\n",
       "99       Ladri di biciclette             1948     8.2\n",
       "\n",
       "[100 rows x 3 columns]"
      ]
     },
     "execution_count": 34,
     "metadata": {},
     "output_type": "execute_result"
    }
   ],
   "source": [
    "top_movies = pd.read_csv('Project_2.csv')\n",
    "top_movies.drop('Unnamed: 0',axis = 1)"
   ]
  },
  {
   "cell_type": "markdown",
   "metadata": {},
   "source": [
    "## 3. Write a python program to display IMDB’s Top rated 100 Indian movies’ data (i.e. Name, IMDB rating, Year of release) and save it in form of a CSV file."
   ]
  },
  {
   "cell_type": "code",
   "execution_count": 35,
   "metadata": {},
   "outputs": [
    {
     "data": {
      "application/javascript": [
       "\n",
       "        if (window._pyforest_update_imports_cell) { window._pyforest_update_imports_cell('import pandas as pd\\nimport numpy as np'); }\n",
       "    "
      ],
      "text/plain": [
       "<IPython.core.display.Javascript object>"
      ]
     },
     "metadata": {},
     "output_type": "display_data"
    }
   ],
   "source": [
    "# Function to scrape top rated Indian Movie names, IMDB ratings & Year of release\n",
    "def movie_scrape(url = None):\n",
    "    page = requests.get(url)\n",
    "    data = page.text\n",
    "    soup = BeautifulSoup(data, 'lxml')\n",
    "    r = soup.find_all('td', class_='ratingColumn imdbRating')\n",
    "    m_name = [x.a.text for x in soup.find_all('td', class_ = \"titleColumn\")]\n",
    "    y = soup.find_all('span', class_='secondaryInfo')\n",
    "    name = []\n",
    "    rating = []\n",
    "    year = []\n",
    "    for i in m_name:\n",
    "        name.append(i.replace('\\n',\"\"))\n",
    "    for j in y:\n",
    "        year.append(j.text.replace('\\n',\"\"))\n",
    "    for k in r:\n",
    "        rating.append(k.text.replace('\\n',\"\"))\n",
    "    df = pd.DataFrame({})\n",
    "    df['Movie_Name'] = name[:100]\n",
    "    df['Year of Release']= year[:100]\n",
    "    df['Year of Release'] = df['Year of Release'].str.extract('(\\d+)')\n",
    "    df['Rating'] = rating[:100]\n",
    "    return(df.to_csv('Project_3.csv'))\n",
    "# Calling the function\n",
    "movie_scrape(url = \"https://www.imdb.com/india/top-rated-indian-movies/\")"
   ]
  },
  {
   "cell_type": "code",
   "execution_count": 36,
   "metadata": {},
   "outputs": [
    {
     "data": {
      "application/javascript": [
       "\n",
       "        if (window._pyforest_update_imports_cell) { window._pyforest_update_imports_cell('import pandas as pd\\nimport numpy as np'); }\n",
       "    "
      ],
      "text/plain": [
       "<IPython.core.display.Javascript object>"
      ]
     },
     "metadata": {},
     "output_type": "display_data"
    },
    {
     "data": {
      "text/html": [
       "<div>\n",
       "<style scoped>\n",
       "    .dataframe tbody tr th:only-of-type {\n",
       "        vertical-align: middle;\n",
       "    }\n",
       "\n",
       "    .dataframe tbody tr th {\n",
       "        vertical-align: top;\n",
       "    }\n",
       "\n",
       "    .dataframe thead th {\n",
       "        text-align: right;\n",
       "    }\n",
       "</style>\n",
       "<table border=\"1\" class=\"dataframe\">\n",
       "  <thead>\n",
       "    <tr style=\"text-align: right;\">\n",
       "      <th></th>\n",
       "      <th>Movie_Name</th>\n",
       "      <th>Year of Release</th>\n",
       "      <th>Rating</th>\n",
       "    </tr>\n",
       "  </thead>\n",
       "  <tbody>\n",
       "    <tr>\n",
       "      <th>0</th>\n",
       "      <td>Pather Panchali</td>\n",
       "      <td>1955</td>\n",
       "      <td>8.5</td>\n",
       "    </tr>\n",
       "    <tr>\n",
       "      <th>1</th>\n",
       "      <td>Gol Maal</td>\n",
       "      <td>1979</td>\n",
       "      <td>8.5</td>\n",
       "    </tr>\n",
       "    <tr>\n",
       "      <th>2</th>\n",
       "      <td>Nayakan</td>\n",
       "      <td>1987</td>\n",
       "      <td>8.5</td>\n",
       "    </tr>\n",
       "    <tr>\n",
       "      <th>3</th>\n",
       "      <td>Anbe Sivam</td>\n",
       "      <td>2003</td>\n",
       "      <td>8.5</td>\n",
       "    </tr>\n",
       "    <tr>\n",
       "      <th>4</th>\n",
       "      <td>Apur Sansar</td>\n",
       "      <td>1959</td>\n",
       "      <td>8.5</td>\n",
       "    </tr>\n",
       "    <tr>\n",
       "      <th>...</th>\n",
       "      <td>...</td>\n",
       "      <td>...</td>\n",
       "      <td>...</td>\n",
       "    </tr>\n",
       "    <tr>\n",
       "      <th>95</th>\n",
       "      <td>Pink</td>\n",
       "      <td>2016</td>\n",
       "      <td>8.0</td>\n",
       "    </tr>\n",
       "    <tr>\n",
       "      <th>96</th>\n",
       "      <td>The Legend of Bhagat Singh</td>\n",
       "      <td>2002</td>\n",
       "      <td>8.0</td>\n",
       "    </tr>\n",
       "    <tr>\n",
       "      <th>97</th>\n",
       "      <td>Bommarillu</td>\n",
       "      <td>2006</td>\n",
       "      <td>8.0</td>\n",
       "    </tr>\n",
       "    <tr>\n",
       "      <th>98</th>\n",
       "      <td>Bombay</td>\n",
       "      <td>1995</td>\n",
       "      <td>8.0</td>\n",
       "    </tr>\n",
       "    <tr>\n",
       "      <th>99</th>\n",
       "      <td>Maqbool</td>\n",
       "      <td>2003</td>\n",
       "      <td>8.0</td>\n",
       "    </tr>\n",
       "  </tbody>\n",
       "</table>\n",
       "<p>100 rows × 3 columns</p>\n",
       "</div>"
      ],
      "text/plain": [
       "                    Movie_Name  Year of Release  Rating\n",
       "0              Pather Panchali             1955     8.5\n",
       "1                     Gol Maal             1979     8.5\n",
       "2                      Nayakan             1987     8.5\n",
       "3                   Anbe Sivam             2003     8.5\n",
       "4                  Apur Sansar             1959     8.5\n",
       "..                         ...              ...     ...\n",
       "95                        Pink             2016     8.0\n",
       "96  The Legend of Bhagat Singh             2002     8.0\n",
       "97                  Bommarillu             2006     8.0\n",
       "98                      Bombay             1995     8.0\n",
       "99                     Maqbool             2003     8.0\n",
       "\n",
       "[100 rows x 3 columns]"
      ]
     },
     "execution_count": 36,
     "metadata": {},
     "output_type": "execute_result"
    }
   ],
   "source": [
    "hindi_movies = pd.read_csv('Project_3.csv')\n",
    "hindi_movies.drop('Unnamed: 0',axis = 1)"
   ]
  },
  {
   "cell_type": "markdown",
   "metadata": {},
   "source": [
    "## 4. Write a python program to scrap book name, author name, genre and book review of any 5 books from‘www.bookpage.com’"
   ]
  },
  {
   "cell_type": "code",
   "execution_count": 37,
   "metadata": {},
   "outputs": [
    {
     "data": {
      "application/javascript": [
       "\n",
       "        if (window._pyforest_update_imports_cell) { window._pyforest_update_imports_cell('import pandas as pd\\nimport numpy as np'); }\n",
       "    "
      ],
      "text/plain": [
       "<IPython.core.display.Javascript object>"
      ]
     },
     "metadata": {},
     "output_type": "display_data"
    }
   ],
   "source": [
    "def book_scrape(url = None):\n",
    "    page = requests.get(url)\n",
    "    data = page.text\n",
    "    soup = BeautifulSoup(data, 'lxml')\n",
    "    book_names = [x.a.text for x in soup.find_all('h4', class_ = \"italic\")]\n",
    "    author_names = [x.text for x in soup.find_all('p', class_ = \"sans bold\")]\n",
    "    genre = [x.text for x in soup.find_all('p', class_ = \"genre-links hidden-phone\")]\n",
    "    review = [x.text for x in soup.find_all('p', class_ = \"excerpt\")]\n",
    "    df = pd.DataFrame({})\n",
    "    df['book_names'] = book_names[:5]\n",
    "    df['author_names']= author_names[:5]\n",
    "    df['genre'] = genre[:5]\n",
    "    df['review'] = review[:5]\n",
    "    return(df.to_csv('Project_4.csv'))\n",
    "\n",
    "book_scrape(url = \"https://bookpage.com/reviews\")"
   ]
  },
  {
   "cell_type": "code",
   "execution_count": 38,
   "metadata": {},
   "outputs": [
    {
     "data": {
      "application/javascript": [
       "\n",
       "        if (window._pyforest_update_imports_cell) { window._pyforest_update_imports_cell('import pandas as pd\\nimport numpy as np'); }\n",
       "    "
      ],
      "text/plain": [
       "<IPython.core.display.Javascript object>"
      ]
     },
     "metadata": {},
     "output_type": "display_data"
    },
    {
     "data": {
      "text/html": [
       "<div>\n",
       "<style scoped>\n",
       "    .dataframe tbody tr th:only-of-type {\n",
       "        vertical-align: middle;\n",
       "    }\n",
       "\n",
       "    .dataframe tbody tr th {\n",
       "        vertical-align: top;\n",
       "    }\n",
       "\n",
       "    .dataframe thead th {\n",
       "        text-align: right;\n",
       "    }\n",
       "</style>\n",
       "<table border=\"1\" class=\"dataframe\">\n",
       "  <thead>\n",
       "    <tr style=\"text-align: right;\">\n",
       "      <th></th>\n",
       "      <th>book_names</th>\n",
       "      <th>author_names</th>\n",
       "      <th>genre</th>\n",
       "      <th>review</th>\n",
       "    </tr>\n",
       "  </thead>\n",
       "  <tbody>\n",
       "    <tr>\n",
       "      <th>0</th>\n",
       "      <td>Watercress</td>\n",
       "      <td>Andrea Wang, Jason Chin</td>\n",
       "      <td>Children's / Children's Picture Book</td>\n",
       "      <td></td>\n",
       "    </tr>\n",
       "    <tr>\n",
       "      <th>1</th>\n",
       "      <td>Raft of Stars</td>\n",
       "      <td>Andrew J. Graff</td>\n",
       "      <td>Fiction / Coming of Age</td>\n",
       "      <td>Andrew J. Graff’s fine debut novel begins gent...</td>\n",
       "    </tr>\n",
       "    <tr>\n",
       "      <th>2</th>\n",
       "      <td>Until Justice Be Done</td>\n",
       "      <td>Kate Masur</td>\n",
       "      <td>Nonfiction / History / American History</td>\n",
       "      <td>Masur’s scholarly but accessible history demon...</td>\n",
       "    </tr>\n",
       "    <tr>\n",
       "      <th>3</th>\n",
       "      <td>Breathing Underwater</td>\n",
       "      <td>Sarah Allen</td>\n",
       "      <td>Children's / Middle Grade</td>\n",
       "      <td></td>\n",
       "    </tr>\n",
       "    <tr>\n",
       "      <th>4</th>\n",
       "      <td>Confident Women</td>\n",
       "      <td>Tori Telfer</td>\n",
       "      <td>Nonfiction / True Crime / Women's History</td>\n",
       "      <td>With Tori Telfer at the wheel, reading these t...</td>\n",
       "    </tr>\n",
       "  </tbody>\n",
       "</table>\n",
       "</div>"
      ],
      "text/plain": [
       "               book_names             author_names  \\\n",
       "0              Watercress  Andrea Wang, Jason Chin   \n",
       "1           Raft of Stars          Andrew J. Graff   \n",
       "2   Until Justice Be Done               Kate Masur   \n",
       "3    Breathing Underwater              Sarah Allen   \n",
       "4         Confident Women              Tori Telfer   \n",
       "\n",
       "                                       genre  \\\n",
       "0       Children's / Children's Picture Book   \n",
       "1                    Fiction / Coming of Age   \n",
       "2    Nonfiction / History / American History   \n",
       "3                  Children's / Middle Grade   \n",
       "4  Nonfiction / True Crime / Women's History   \n",
       "\n",
       "                                              review  \n",
       "0                                                     \n",
       "1  Andrew J. Graff’s fine debut novel begins gent...  \n",
       "2  Masur’s scholarly but accessible history demon...  \n",
       "3                                                     \n",
       "4  With Tori Telfer at the wheel, reading these t...  "
      ]
     },
     "execution_count": 38,
     "metadata": {},
     "output_type": "execute_result"
    }
   ],
   "source": [
    "books = pd.read_csv('Project_4.csv')\n",
    "books.drop('Unnamed: 0',axis = 1,inplace = True)\n",
    "books['book_names']=books['book_names'].str.replace('★',\"\")\n",
    "books['author_names']=books['author_names'].str.replace('\\n',\"\")\n",
    "books['genre']=books['genre'].str.replace('\\n',\"\")\n",
    "books['review']=books['review'].str.replace('\\n',\"\")\n",
    "books"
   ]
  },
  {
   "cell_type": "markdown",
   "metadata": {},
   "source": [
    "## 5. Write a python program to scrape cricket rankings from ‘www.icc-cricket.com’. You have to scrape: \n",
    "\n",
    "### i) Top 10 ODI teams in men’s cricket along with the records for matches, points and rating."
   ]
  },
  {
   "cell_type": "code",
   "execution_count": 39,
   "metadata": {},
   "outputs": [
    {
     "data": {
      "application/javascript": [
       "\n",
       "        if (window._pyforest_update_imports_cell) { window._pyforest_update_imports_cell('import pandas as pd\\nimport numpy as np'); }\n",
       "    "
      ],
      "text/plain": [
       "<IPython.core.display.Javascript object>"
      ]
     },
     "metadata": {},
     "output_type": "display_data"
    }
   ],
   "source": [
    "def odi_team(url = None):\n",
    "    page = requests.get(url )\n",
    "    data = page.text\n",
    "    soup = BeautifulSoup(data, 'html.parser')\n",
    "    teams = soup.find_all('td')\n",
    "    team_names = []\n",
    "    for i in teams:\n",
    "        team_names.append(i.text.replace('\\n',\"\"))\n",
    "    df = pd.DataFrame({})\n",
    "    df['ranks'] = team_names[0::5]\n",
    "    df['names'] = team_names[1::5]\n",
    "    df['matches'] = team_names[2::5]\n",
    "    df['points'] = team_names[3::5]\n",
    "    df['rating'] = team_names[4::5]\n",
    "    return(df.to_csv('Project_5_1.csv'))\n",
    "\n",
    "\n",
    "odi_team(url = 'https://www.icc-cricket.com/rankings/mens/team-rankings/odi')"
   ]
  },
  {
   "cell_type": "code",
   "execution_count": 40,
   "metadata": {},
   "outputs": [
    {
     "data": {
      "application/javascript": [
       "\n",
       "        if (window._pyforest_update_imports_cell) { window._pyforest_update_imports_cell('import pandas as pd\\nimport numpy as np'); }\n",
       "    "
      ],
      "text/plain": [
       "<IPython.core.display.Javascript object>"
      ]
     },
     "metadata": {},
     "output_type": "display_data"
    },
    {
     "data": {
      "text/html": [
       "<div>\n",
       "<style scoped>\n",
       "    .dataframe tbody tr th:only-of-type {\n",
       "        vertical-align: middle;\n",
       "    }\n",
       "\n",
       "    .dataframe tbody tr th {\n",
       "        vertical-align: top;\n",
       "    }\n",
       "\n",
       "    .dataframe thead th {\n",
       "        text-align: right;\n",
       "    }\n",
       "</style>\n",
       "<table border=\"1\" class=\"dataframe\">\n",
       "  <thead>\n",
       "    <tr style=\"text-align: right;\">\n",
       "      <th></th>\n",
       "      <th>ranks</th>\n",
       "      <th>names</th>\n",
       "      <th>matches</th>\n",
       "      <th>points</th>\n",
       "      <th>rating</th>\n",
       "    </tr>\n",
       "  </thead>\n",
       "  <tbody>\n",
       "    <tr>\n",
       "      <th>0</th>\n",
       "      <td>1</td>\n",
       "      <td>EnglandENG</td>\n",
       "      <td>45</td>\n",
       "      <td>5,472</td>\n",
       "      <td>122</td>\n",
       "    </tr>\n",
       "    <tr>\n",
       "      <th>1</th>\n",
       "      <td>2</td>\n",
       "      <td>IndiaIND</td>\n",
       "      <td>53</td>\n",
       "      <td>6,275</td>\n",
       "      <td>118</td>\n",
       "    </tr>\n",
       "    <tr>\n",
       "      <th>2</th>\n",
       "      <td>3</td>\n",
       "      <td>New ZealandNZ</td>\n",
       "      <td>35</td>\n",
       "      <td>4,137</td>\n",
       "      <td>118</td>\n",
       "    </tr>\n",
       "    <tr>\n",
       "      <th>3</th>\n",
       "      <td>4</td>\n",
       "      <td>AustraliaAUS</td>\n",
       "      <td>39</td>\n",
       "      <td>4,344</td>\n",
       "      <td>111</td>\n",
       "    </tr>\n",
       "    <tr>\n",
       "      <th>4</th>\n",
       "      <td>5</td>\n",
       "      <td>South AfricaSA</td>\n",
       "      <td>31</td>\n",
       "      <td>3,345</td>\n",
       "      <td>108</td>\n",
       "    </tr>\n",
       "    <tr>\n",
       "      <th>5</th>\n",
       "      <td>6</td>\n",
       "      <td>PakistanPAK</td>\n",
       "      <td>35</td>\n",
       "      <td>3,490</td>\n",
       "      <td>100</td>\n",
       "    </tr>\n",
       "    <tr>\n",
       "      <th>6</th>\n",
       "      <td>7</td>\n",
       "      <td>BangladeshBAN</td>\n",
       "      <td>40</td>\n",
       "      <td>3,567</td>\n",
       "      <td>89</td>\n",
       "    </tr>\n",
       "    <tr>\n",
       "      <th>7</th>\n",
       "      <td>8</td>\n",
       "      <td>Sri LankaSL</td>\n",
       "      <td>42</td>\n",
       "      <td>3,372</td>\n",
       "      <td>80</td>\n",
       "    </tr>\n",
       "    <tr>\n",
       "      <th>8</th>\n",
       "      <td>9</td>\n",
       "      <td>West IndiesWI</td>\n",
       "      <td>49</td>\n",
       "      <td>3,802</td>\n",
       "      <td>78</td>\n",
       "    </tr>\n",
       "    <tr>\n",
       "      <th>9</th>\n",
       "      <td>10</td>\n",
       "      <td>AfghanistanAFG</td>\n",
       "      <td>31</td>\n",
       "      <td>1,844</td>\n",
       "      <td>59</td>\n",
       "    </tr>\n",
       "  </tbody>\n",
       "</table>\n",
       "</div>"
      ],
      "text/plain": [
       "   ranks           names  matches points  rating\n",
       "0      1      EnglandENG       45  5,472     122\n",
       "1      2        IndiaIND       53  6,275     118\n",
       "2      3   New ZealandNZ       35  4,137     118\n",
       "3      4    AustraliaAUS       39  4,344     111\n",
       "4      5  South AfricaSA       31  3,345     108\n",
       "5      6     PakistanPAK       35  3,490     100\n",
       "6      7   BangladeshBAN       40  3,567      89\n",
       "7      8     Sri LankaSL       42  3,372      80\n",
       "8      9   West IndiesWI       49  3,802      78\n",
       "9     10  AfghanistanAFG       31  1,844      59"
      ]
     },
     "execution_count": 40,
     "metadata": {},
     "output_type": "execute_result"
    }
   ],
   "source": [
    "odi_team = pd.read_csv('Project_5_1.csv')\n",
    "odi_team.drop('Unnamed: 0',axis = 1,inplace = True)\n",
    "odi_team.head(10)"
   ]
  },
  {
   "cell_type": "markdown",
   "metadata": {},
   "source": [
    "### ii) Top 10 ODI Batsmen in men along with the records of their team and rating."
   ]
  },
  {
   "cell_type": "code",
   "execution_count": 43,
   "metadata": {},
   "outputs": [
    {
     "data": {
      "application/javascript": [
       "\n",
       "        if (window._pyforest_update_imports_cell) { window._pyforest_update_imports_cell('import pandas as pd\\nimport numpy as np'); }\n",
       "    "
      ],
      "text/plain": [
       "<IPython.core.display.Javascript object>"
      ]
     },
     "metadata": {},
     "output_type": "display_data"
    }
   ],
   "source": [
    "def odi_batsmen(url = None):\n",
    "    page = requests.get(url )\n",
    "    data = page.text\n",
    "    soup = BeautifulSoup(data, 'html.parser')\n",
    "    teams = soup.find_all('td')\n",
    "    team_names = []\n",
    "    for i in teams:\n",
    "        team_names.append(i.text.replace('\\n',\"\"))\n",
    "    df = pd.DataFrame({})\n",
    "    df['ranks'] = team_names[0::5]\n",
    "    df['names'] = team_names[1::5]\n",
    "    df['team'] = team_names[2::5]\n",
    "    df['points'] = team_names[3::5]\n",
    "    df['rating'] = team_names[4::5]\n",
    "    df['rating'] = df['rating'].str.extract('(\\d+)')\n",
    "    df['ranks'] = df['ranks'].str.extract('(\\d+)')\n",
    "    return(df.to_csv('Project_5_2.csv'))\n",
    "\n",
    "\n",
    "odi_batsmen(url = 'https://www.icc-cricket.com/rankings/mens/player-rankings/odi/batting')"
   ]
  },
  {
   "cell_type": "code",
   "execution_count": 44,
   "metadata": {},
   "outputs": [
    {
     "data": {
      "application/javascript": [
       "\n",
       "        if (window._pyforest_update_imports_cell) { window._pyforest_update_imports_cell('import pandas as pd\\nimport numpy as np'); }\n",
       "    "
      ],
      "text/plain": [
       "<IPython.core.display.Javascript object>"
      ]
     },
     "metadata": {},
     "output_type": "display_data"
    },
    {
     "data": {
      "application/javascript": [
       "\n",
       "        if (window._pyforest_update_imports_cell) { window._pyforest_update_imports_cell('import pandas as pd\\nimport numpy as np'); }\n",
       "    "
      ],
      "text/plain": [
       "<IPython.core.display.Javascript object>"
      ]
     },
     "metadata": {},
     "output_type": "display_data"
    },
    {
     "data": {
      "text/html": [
       "<div>\n",
       "<style scoped>\n",
       "    .dataframe tbody tr th:only-of-type {\n",
       "        vertical-align: middle;\n",
       "    }\n",
       "\n",
       "    .dataframe tbody tr th {\n",
       "        vertical-align: top;\n",
       "    }\n",
       "\n",
       "    .dataframe thead th {\n",
       "        text-align: right;\n",
       "    }\n",
       "</style>\n",
       "<table border=\"1\" class=\"dataframe\">\n",
       "  <thead>\n",
       "    <tr style=\"text-align: right;\">\n",
       "      <th></th>\n",
       "      <th>ranks</th>\n",
       "      <th>names</th>\n",
       "      <th>team</th>\n",
       "      <th>points</th>\n",
       "      <th>rating</th>\n",
       "    </tr>\n",
       "  </thead>\n",
       "  <tbody>\n",
       "    <tr>\n",
       "      <th>0</th>\n",
       "      <td>1.0</td>\n",
       "      <td>Virat Kohli</td>\n",
       "      <td>IND</td>\n",
       "      <td>868</td>\n",
       "      <td>911</td>\n",
       "    </tr>\n",
       "    <tr>\n",
       "      <th>1</th>\n",
       "      <td>2.0</td>\n",
       "      <td>Babar Azam</td>\n",
       "      <td>PAK</td>\n",
       "      <td>837</td>\n",
       "      <td>846</td>\n",
       "    </tr>\n",
       "    <tr>\n",
       "      <th>2</th>\n",
       "      <td>3.0</td>\n",
       "      <td>Rohit Sharma</td>\n",
       "      <td>IND</td>\n",
       "      <td>836</td>\n",
       "      <td>885</td>\n",
       "    </tr>\n",
       "    <tr>\n",
       "      <th>3</th>\n",
       "      <td>4.0</td>\n",
       "      <td>Ross Taylor</td>\n",
       "      <td>NZ</td>\n",
       "      <td>810</td>\n",
       "      <td>841</td>\n",
       "    </tr>\n",
       "    <tr>\n",
       "      <th>4</th>\n",
       "      <td>5.0</td>\n",
       "      <td>Aaron Finch</td>\n",
       "      <td>AUS</td>\n",
       "      <td>791</td>\n",
       "      <td>798</td>\n",
       "    </tr>\n",
       "    <tr>\n",
       "      <th>5</th>\n",
       "      <td>6.0</td>\n",
       "      <td>Francois du Plessis</td>\n",
       "      <td>SA</td>\n",
       "      <td>790</td>\n",
       "      <td>820</td>\n",
       "    </tr>\n",
       "    <tr>\n",
       "      <th>6</th>\n",
       "      <td>7.0</td>\n",
       "      <td>Jonny Bairstow</td>\n",
       "      <td>ENG</td>\n",
       "      <td>775</td>\n",
       "      <td>777</td>\n",
       "    </tr>\n",
       "    <tr>\n",
       "      <th>7</th>\n",
       "      <td>8.0</td>\n",
       "      <td>David Warner</td>\n",
       "      <td>AUS</td>\n",
       "      <td>773</td>\n",
       "      <td>880</td>\n",
       "    </tr>\n",
       "    <tr>\n",
       "      <th>8</th>\n",
       "      <td>8.0</td>\n",
       "      <td>Shai Hope</td>\n",
       "      <td>WI</td>\n",
       "      <td>773</td>\n",
       "      <td>808</td>\n",
       "    </tr>\n",
       "    <tr>\n",
       "      <th>9</th>\n",
       "      <td>10.0</td>\n",
       "      <td>Kane Williamson</td>\n",
       "      <td>NZ</td>\n",
       "      <td>757</td>\n",
       "      <td>799</td>\n",
       "    </tr>\n",
       "  </tbody>\n",
       "</table>\n",
       "</div>"
      ],
      "text/plain": [
       "   ranks                names team  points  rating\n",
       "0    1.0          Virat Kohli  IND     868     911\n",
       "1    2.0           Babar Azam  PAK     837     846\n",
       "2    3.0         Rohit Sharma  IND     836     885\n",
       "3    4.0          Ross Taylor   NZ     810     841\n",
       "4    5.0          Aaron Finch  AUS     791     798\n",
       "5    6.0  Francois du Plessis   SA     790     820\n",
       "6    7.0       Jonny Bairstow  ENG     775     777\n",
       "7    8.0         David Warner  AUS     773     880\n",
       "8    8.0            Shai Hope   WI     773     808\n",
       "9   10.0      Kane Williamson   NZ     757     799"
      ]
     },
     "execution_count": 44,
     "metadata": {},
     "output_type": "execute_result"
    }
   ],
   "source": [
    "odi_batsmen = pd.read_csv('Project_5_2.csv')\n",
    "odi_batsmen.drop('Unnamed: 0',axis = 1,inplace = True)\n",
    "odi_batsmen.ranks.replace(np.NaN,8,inplace = True)\n",
    "odi_batsmen.head(10)"
   ]
  },
  {
   "cell_type": "markdown",
   "metadata": {},
   "source": [
    "### iii) Top 10 ODI bowlers along with the records of their team and rating."
   ]
  },
  {
   "cell_type": "code",
   "execution_count": 45,
   "metadata": {},
   "outputs": [
    {
     "data": {
      "application/javascript": [
       "\n",
       "        if (window._pyforest_update_imports_cell) { window._pyforest_update_imports_cell('import pandas as pd\\nimport numpy as np'); }\n",
       "    "
      ],
      "text/plain": [
       "<IPython.core.display.Javascript object>"
      ]
     },
     "metadata": {},
     "output_type": "display_data"
    }
   ],
   "source": [
    "def odi_bowlers(url = None):\n",
    "    page = requests.get(url )\n",
    "    data = page.text\n",
    "    soup = BeautifulSoup(data, 'html.parser')\n",
    "    teams = soup.find_all('td')\n",
    "    team_names = []\n",
    "    for i in teams:\n",
    "        team_names.append(i.text.replace('\\n',\"\"))\n",
    "    df = pd.DataFrame({})\n",
    "    df['ranks'] = team_names[0::5]\n",
    "    df['names'] = team_names[1::5]\n",
    "    df['team'] = team_names[2::5]\n",
    "    df['points'] = team_names[3::5]\n",
    "    df['rating'] = team_names[4::5]\n",
    "    df['rating'] = df['rating'].str.extract('(\\d+)')\n",
    "    return(df.to_csv('Project_5_3.csv'))\n",
    "\n",
    "\n",
    "odi_bowlers(url = 'https://www.icc-cricket.com/rankings/mens/player-rankings/odi/bowling')"
   ]
  },
  {
   "cell_type": "code",
   "execution_count": 46,
   "metadata": {},
   "outputs": [
    {
     "data": {
      "application/javascript": [
       "\n",
       "        if (window._pyforest_update_imports_cell) { window._pyforest_update_imports_cell('import pandas as pd\\nimport numpy as np'); }\n",
       "    "
      ],
      "text/plain": [
       "<IPython.core.display.Javascript object>"
      ]
     },
     "metadata": {},
     "output_type": "display_data"
    },
    {
     "data": {
      "text/html": [
       "<div>\n",
       "<style scoped>\n",
       "    .dataframe tbody tr th:only-of-type {\n",
       "        vertical-align: middle;\n",
       "    }\n",
       "\n",
       "    .dataframe tbody tr th {\n",
       "        vertical-align: top;\n",
       "    }\n",
       "\n",
       "    .dataframe thead th {\n",
       "        text-align: right;\n",
       "    }\n",
       "</style>\n",
       "<table border=\"1\" class=\"dataframe\">\n",
       "  <thead>\n",
       "    <tr style=\"text-align: right;\">\n",
       "      <th></th>\n",
       "      <th>ranks</th>\n",
       "      <th>names</th>\n",
       "      <th>team</th>\n",
       "      <th>points</th>\n",
       "      <th>rating</th>\n",
       "    </tr>\n",
       "  </thead>\n",
       "  <tbody>\n",
       "    <tr>\n",
       "      <th>0</th>\n",
       "      <td>1</td>\n",
       "      <td>Trent Boult</td>\n",
       "      <td>NZ</td>\n",
       "      <td>742</td>\n",
       "      <td>770.0</td>\n",
       "    </tr>\n",
       "    <tr>\n",
       "      <th>1</th>\n",
       "      <td>2</td>\n",
       "      <td>Mujeeb Ur Rahman</td>\n",
       "      <td>AFG</td>\n",
       "      <td>708</td>\n",
       "      <td>712.0</td>\n",
       "    </tr>\n",
       "    <tr>\n",
       "      <th>2</th>\n",
       "      <td>3</td>\n",
       "      <td>Jasprit Bumrah</td>\n",
       "      <td>IND</td>\n",
       "      <td>697</td>\n",
       "      <td>841.0</td>\n",
       "    </tr>\n",
       "    <tr>\n",
       "      <th>3</th>\n",
       "      <td>4</td>\n",
       "      <td>Mehedi Hasan</td>\n",
       "      <td>BAN</td>\n",
       "      <td>678</td>\n",
       "      <td>694.0</td>\n",
       "    </tr>\n",
       "    <tr>\n",
       "      <th>4</th>\n",
       "      <td>5</td>\n",
       "      <td>Chris Woakes</td>\n",
       "      <td>ENG</td>\n",
       "      <td>672</td>\n",
       "      <td>676.0</td>\n",
       "    </tr>\n",
       "    <tr>\n",
       "      <th>5</th>\n",
       "      <td>6</td>\n",
       "      <td>Kagiso Rabada</td>\n",
       "      <td>SA</td>\n",
       "      <td>665</td>\n",
       "      <td>724.0</td>\n",
       "    </tr>\n",
       "    <tr>\n",
       "      <th>6</th>\n",
       "      <td>7</td>\n",
       "      <td>Josh Hazlewood</td>\n",
       "      <td>AUS</td>\n",
       "      <td>660</td>\n",
       "      <td>733.0</td>\n",
       "    </tr>\n",
       "    <tr>\n",
       "      <th>7</th>\n",
       "      <td>8</td>\n",
       "      <td>Matt Henry</td>\n",
       "      <td>NZ</td>\n",
       "      <td>653</td>\n",
       "      <td>675.0</td>\n",
       "    </tr>\n",
       "    <tr>\n",
       "      <th>8</th>\n",
       "      <td>9</td>\n",
       "      <td>Mohammad Amir</td>\n",
       "      <td>PAK</td>\n",
       "      <td>647</td>\n",
       "      <td>663.0</td>\n",
       "    </tr>\n",
       "    <tr>\n",
       "      <th>9</th>\n",
       "      <td>10</td>\n",
       "      <td>Pat Cummins</td>\n",
       "      <td>AUS</td>\n",
       "      <td>646</td>\n",
       "      <td>729.0</td>\n",
       "    </tr>\n",
       "  </tbody>\n",
       "</table>\n",
       "</div>"
      ],
      "text/plain": [
       "                                    ranks             names team  points  \\\n",
       "0                                       1       Trent Boult   NZ     742   \n",
       "1                               2          Mujeeb Ur Rahman  AFG     708   \n",
       "2                               3            Jasprit Bumrah  IND     697   \n",
       "3                               4              Mehedi Hasan  BAN     678   \n",
       "4                               5              Chris Woakes  ENG     672   \n",
       "5                               6             Kagiso Rabada   SA     665   \n",
       "6                               7            Josh Hazlewood  AUS     660   \n",
       "7                               8                Matt Henry   NZ     653   \n",
       "8                               9             Mohammad Amir  PAK     647   \n",
       "9                              10               Pat Cummins  AUS     646   \n",
       "\n",
       "   rating  \n",
       "0   770.0  \n",
       "1   712.0  \n",
       "2   841.0  \n",
       "3   694.0  \n",
       "4   676.0  \n",
       "5   724.0  \n",
       "6   733.0  \n",
       "7   675.0  \n",
       "8   663.0  \n",
       "9   729.0  "
      ]
     },
     "execution_count": 46,
     "metadata": {},
     "output_type": "execute_result"
    }
   ],
   "source": [
    "odi_bowler = pd.read_csv('Project_5_3.csv')\n",
    "odi_bowler.drop('Unnamed: 0',axis = 1,inplace = True)\n",
    "odi_bowler.head(10)"
   ]
  },
  {
   "cell_type": "markdown",
   "metadata": {},
   "source": [
    "## 6. Write a python program to scrape cricket rankings from ‘www.icc-cricket.com’. You have to scrape:\n",
    "### i) Top 10 ODI teams in women’s cricket along with the records for matches, points and rating. "
   ]
  },
  {
   "cell_type": "code",
   "execution_count": 47,
   "metadata": {},
   "outputs": [
    {
     "data": {
      "application/javascript": [
       "\n",
       "        if (window._pyforest_update_imports_cell) { window._pyforest_update_imports_cell('import pandas as pd\\nimport numpy as np'); }\n",
       "    "
      ],
      "text/plain": [
       "<IPython.core.display.Javascript object>"
      ]
     },
     "metadata": {},
     "output_type": "display_data"
    }
   ],
   "source": [
    "def odi_team_women(url = None):\n",
    "    page = requests.get(url )\n",
    "    data = page.text\n",
    "    soup = BeautifulSoup(data, 'html.parser')\n",
    "    teams = soup.find_all('td')\n",
    "    team_names = []\n",
    "    for i in teams:\n",
    "        team_names.append(i.text.replace('\\n',\"\"))\n",
    "    df = pd.DataFrame({})\n",
    "    df['ranks'] = team_names[0::5]\n",
    "    df['names'] = team_names[1::5]\n",
    "    df['matches'] = team_names[2::5]\n",
    "    df['points'] = team_names[3::5]\n",
    "    df['rating'] = team_names[4::5]\n",
    "    return(df.to_csv('Project_6_1.csv'))\n",
    "\n",
    "\n",
    "odi_team_women(url = 'https://www.icc-cricket.com/rankings/womens/team-rankings/odi')"
   ]
  },
  {
   "cell_type": "code",
   "execution_count": 48,
   "metadata": {},
   "outputs": [
    {
     "data": {
      "application/javascript": [
       "\n",
       "        if (window._pyforest_update_imports_cell) { window._pyforest_update_imports_cell('import pandas as pd\\nimport numpy as np'); }\n",
       "    "
      ],
      "text/plain": [
       "<IPython.core.display.Javascript object>"
      ]
     },
     "metadata": {},
     "output_type": "display_data"
    },
    {
     "data": {
      "text/html": [
       "<div>\n",
       "<style scoped>\n",
       "    .dataframe tbody tr th:only-of-type {\n",
       "        vertical-align: middle;\n",
       "    }\n",
       "\n",
       "    .dataframe tbody tr th {\n",
       "        vertical-align: top;\n",
       "    }\n",
       "\n",
       "    .dataframe thead th {\n",
       "        text-align: right;\n",
       "    }\n",
       "</style>\n",
       "<table border=\"1\" class=\"dataframe\">\n",
       "  <thead>\n",
       "    <tr style=\"text-align: right;\">\n",
       "      <th></th>\n",
       "      <th>ranks</th>\n",
       "      <th>names</th>\n",
       "      <th>matches</th>\n",
       "      <th>points</th>\n",
       "      <th>rating</th>\n",
       "    </tr>\n",
       "  </thead>\n",
       "  <tbody>\n",
       "    <tr>\n",
       "      <th>0</th>\n",
       "      <td>1</td>\n",
       "      <td>AustraliaAUS</td>\n",
       "      <td>15</td>\n",
       "      <td>2,436</td>\n",
       "      <td>162</td>\n",
       "    </tr>\n",
       "    <tr>\n",
       "      <th>1</th>\n",
       "      <td>2</td>\n",
       "      <td>South AfricaSA</td>\n",
       "      <td>24</td>\n",
       "      <td>2,828</td>\n",
       "      <td>118</td>\n",
       "    </tr>\n",
       "    <tr>\n",
       "      <th>2</th>\n",
       "      <td>3</td>\n",
       "      <td>EnglandENG</td>\n",
       "      <td>17</td>\n",
       "      <td>1,993</td>\n",
       "      <td>117</td>\n",
       "    </tr>\n",
       "    <tr>\n",
       "      <th>3</th>\n",
       "      <td>4</td>\n",
       "      <td>IndiaIND</td>\n",
       "      <td>20</td>\n",
       "      <td>2,226</td>\n",
       "      <td>111</td>\n",
       "    </tr>\n",
       "    <tr>\n",
       "      <th>4</th>\n",
       "      <td>5</td>\n",
       "      <td>New ZealandNZ</td>\n",
       "      <td>18</td>\n",
       "      <td>1,696</td>\n",
       "      <td>94</td>\n",
       "    </tr>\n",
       "    <tr>\n",
       "      <th>5</th>\n",
       "      <td>6</td>\n",
       "      <td>West IndiesWI</td>\n",
       "      <td>12</td>\n",
       "      <td>1,025</td>\n",
       "      <td>85</td>\n",
       "    </tr>\n",
       "    <tr>\n",
       "      <th>6</th>\n",
       "      <td>7</td>\n",
       "      <td>PakistanPAK</td>\n",
       "      <td>15</td>\n",
       "      <td>1,101</td>\n",
       "      <td>73</td>\n",
       "    </tr>\n",
       "    <tr>\n",
       "      <th>7</th>\n",
       "      <td>8</td>\n",
       "      <td>BangladeshBAN</td>\n",
       "      <td>5</td>\n",
       "      <td>306</td>\n",
       "      <td>61</td>\n",
       "    </tr>\n",
       "    <tr>\n",
       "      <th>8</th>\n",
       "      <td>9</td>\n",
       "      <td>Sri LankaSL</td>\n",
       "      <td>11</td>\n",
       "      <td>519</td>\n",
       "      <td>47</td>\n",
       "    </tr>\n",
       "    <tr>\n",
       "      <th>9</th>\n",
       "      <td>10</td>\n",
       "      <td>IrelandIRE</td>\n",
       "      <td>2</td>\n",
       "      <td>25</td>\n",
       "      <td>13</td>\n",
       "    </tr>\n",
       "  </tbody>\n",
       "</table>\n",
       "</div>"
      ],
      "text/plain": [
       "   ranks           names  matches points  rating\n",
       "0      1    AustraliaAUS       15  2,436     162\n",
       "1      2  South AfricaSA       24  2,828     118\n",
       "2      3      EnglandENG       17  1,993     117\n",
       "3      4        IndiaIND       20  2,226     111\n",
       "4      5   New ZealandNZ       18  1,696      94\n",
       "5      6   West IndiesWI       12  1,025      85\n",
       "6      7     PakistanPAK       15  1,101      73\n",
       "7      8   BangladeshBAN        5    306      61\n",
       "8      9     Sri LankaSL       11    519      47\n",
       "9     10      IrelandIRE        2     25      13"
      ]
     },
     "execution_count": 48,
     "metadata": {},
     "output_type": "execute_result"
    }
   ],
   "source": [
    "odi_team_women = pd.read_csv('Project_6_1.csv')\n",
    "odi_team_women.drop('Unnamed: 0',axis = 1,inplace = True)\n",
    "odi_team_women"
   ]
  },
  {
   "cell_type": "markdown",
   "metadata": {},
   "source": [
    "### ii) Top 10 women’s ODI players along with the records of their team and rating. "
   ]
  },
  {
   "cell_type": "code",
   "execution_count": 49,
   "metadata": {},
   "outputs": [
    {
     "data": {
      "application/javascript": [
       "\n",
       "        if (window._pyforest_update_imports_cell) { window._pyforest_update_imports_cell('import pandas as pd\\nimport numpy as np'); }\n",
       "    "
      ],
      "text/plain": [
       "<IPython.core.display.Javascript object>"
      ]
     },
     "metadata": {},
     "output_type": "display_data"
    }
   ],
   "source": [
    "def odi_player_women(url = None):\n",
    "    page = requests.get(url )\n",
    "    data = page.text\n",
    "    soup = BeautifulSoup(data, 'html.parser')\n",
    "    teams = soup.find_all('td')\n",
    "    team_names = []\n",
    "    for i in teams:\n",
    "        team_names.append(i.text.replace('\\n',\"\"))\n",
    "    df = pd.DataFrame({})\n",
    "    df['ranks'] = team_names[0::5]\n",
    "    df['names'] = team_names[1::5]\n",
    "    df['matches'] = team_names[2::5]\n",
    "    df['points'] = team_names[3::5]\n",
    "    df['rating'] = team_names[4::5]\n",
    "    df['rating'] = df['rating'].str.extract('(\\d+)')\n",
    "    df['ranks'] = df['ranks'].str.extract('(\\d+)')\n",
    "    return(df.to_csv('Project_6_2.csv'))\n",
    "\n",
    "\n",
    "odi_player_women(url = 'https://www.icc-cricket.com/rankings/womens/player-rankings/odi/batting')"
   ]
  },
  {
   "cell_type": "code",
   "execution_count": 50,
   "metadata": {},
   "outputs": [
    {
     "data": {
      "application/javascript": [
       "\n",
       "        if (window._pyforest_update_imports_cell) { window._pyforest_update_imports_cell('import pandas as pd\\nimport numpy as np'); }\n",
       "    "
      ],
      "text/plain": [
       "<IPython.core.display.Javascript object>"
      ]
     },
     "metadata": {},
     "output_type": "display_data"
    },
    {
     "data": {
      "text/html": [
       "<div>\n",
       "<style scoped>\n",
       "    .dataframe tbody tr th:only-of-type {\n",
       "        vertical-align: middle;\n",
       "    }\n",
       "\n",
       "    .dataframe tbody tr th {\n",
       "        vertical-align: top;\n",
       "    }\n",
       "\n",
       "    .dataframe thead th {\n",
       "        text-align: right;\n",
       "    }\n",
       "</style>\n",
       "<table border=\"1\" class=\"dataframe\">\n",
       "  <thead>\n",
       "    <tr style=\"text-align: right;\">\n",
       "      <th></th>\n",
       "      <th>ranks</th>\n",
       "      <th>names</th>\n",
       "      <th>matches</th>\n",
       "      <th>points</th>\n",
       "      <th>rating</th>\n",
       "    </tr>\n",
       "  </thead>\n",
       "  <tbody>\n",
       "    <tr>\n",
       "      <th>0</th>\n",
       "      <td>1.0</td>\n",
       "      <td>Tammy Beaumont</td>\n",
       "      <td>ENG</td>\n",
       "      <td>765</td>\n",
       "      <td>765</td>\n",
       "    </tr>\n",
       "    <tr>\n",
       "      <th>1</th>\n",
       "      <td>2.0</td>\n",
       "      <td>Lizelle Lee</td>\n",
       "      <td>SA</td>\n",
       "      <td>758</td>\n",
       "      <td>773</td>\n",
       "    </tr>\n",
       "    <tr>\n",
       "      <th>2</th>\n",
       "      <td>3.0</td>\n",
       "      <td>Meg Lanning</td>\n",
       "      <td>AUS</td>\n",
       "      <td>749</td>\n",
       "      <td>834</td>\n",
       "    </tr>\n",
       "    <tr>\n",
       "      <th>3</th>\n",
       "      <td>4.0</td>\n",
       "      <td>Stafanie Taylor</td>\n",
       "      <td>WI</td>\n",
       "      <td>746</td>\n",
       "      <td>765</td>\n",
       "    </tr>\n",
       "    <tr>\n",
       "      <th>4</th>\n",
       "      <td>5.0</td>\n",
       "      <td>Alyssa Healy</td>\n",
       "      <td>AUS</td>\n",
       "      <td>741</td>\n",
       "      <td>741</td>\n",
       "    </tr>\n",
       "    <tr>\n",
       "      <th>5</th>\n",
       "      <td>6.0</td>\n",
       "      <td>Amy Satterthwaite</td>\n",
       "      <td>NZ</td>\n",
       "      <td>740</td>\n",
       "      <td>756</td>\n",
       "    </tr>\n",
       "    <tr>\n",
       "      <th>6</th>\n",
       "      <td>7.0</td>\n",
       "      <td>Smriti Mandhana</td>\n",
       "      <td>IND</td>\n",
       "      <td>710</td>\n",
       "      <td>797</td>\n",
       "    </tr>\n",
       "    <tr>\n",
       "      <th>7</th>\n",
       "      <td>8.0</td>\n",
       "      <td>Mithali Raj</td>\n",
       "      <td>IND</td>\n",
       "      <td>709</td>\n",
       "      <td>839</td>\n",
       "    </tr>\n",
       "    <tr>\n",
       "      <th>8</th>\n",
       "      <td>9.0</td>\n",
       "      <td>Ellyse Perry</td>\n",
       "      <td>AUS</td>\n",
       "      <td>691</td>\n",
       "      <td>766</td>\n",
       "    </tr>\n",
       "    <tr>\n",
       "      <th>9</th>\n",
       "      <td>10.0</td>\n",
       "      <td>Natalie Sciver</td>\n",
       "      <td>ENG</td>\n",
       "      <td>685</td>\n",
       "      <td>712</td>\n",
       "    </tr>\n",
       "  </tbody>\n",
       "</table>\n",
       "</div>"
      ],
      "text/plain": [
       "   ranks              names matches  points  rating\n",
       "0    1.0     Tammy Beaumont     ENG     765     765\n",
       "1    2.0        Lizelle Lee      SA     758     773\n",
       "2    3.0        Meg Lanning     AUS     749     834\n",
       "3    4.0    Stafanie Taylor      WI     746     765\n",
       "4    5.0       Alyssa Healy     AUS     741     741\n",
       "5    6.0  Amy Satterthwaite      NZ     740     756\n",
       "6    7.0    Smriti Mandhana     IND     710     797\n",
       "7    8.0        Mithali Raj     IND     709     839\n",
       "8    9.0       Ellyse Perry     AUS     691     766\n",
       "9   10.0     Natalie Sciver     ENG     685     712"
      ]
     },
     "execution_count": 50,
     "metadata": {},
     "output_type": "execute_result"
    }
   ],
   "source": [
    "odi_women_player = pd.read_csv('Project_6_2.csv')\n",
    "odi_women_player.drop('Unnamed: 0',axis = 1,inplace = True)\n",
    "odi_women_player.head(10)"
   ]
  },
  {
   "cell_type": "markdown",
   "metadata": {},
   "source": [
    "### iii) Top 10 women’s ODI all-rounder along with the records of their team and rating."
   ]
  },
  {
   "cell_type": "code",
   "execution_count": 53,
   "metadata": {},
   "outputs": [
    {
     "data": {
      "application/javascript": [
       "\n",
       "        if (window._pyforest_update_imports_cell) { window._pyforest_update_imports_cell('import pandas as pd\\nimport numpy as np'); }\n",
       "    "
      ],
      "text/plain": [
       "<IPython.core.display.Javascript object>"
      ]
     },
     "metadata": {},
     "output_type": "display_data"
    }
   ],
   "source": [
    "def odi_allrounder_women(url = None):\n",
    "    page = requests.get(url )\n",
    "    data = page.text\n",
    "    soup = BeautifulSoup(data, 'html.parser')\n",
    "    teams = soup.find_all('td')\n",
    "    team_names = []\n",
    "    for i in teams:\n",
    "        team_names.append(i.text.replace('\\n',\"\"))\n",
    "    df = pd.DataFrame({})\n",
    "    df['ranks'] = team_names[0::5]\n",
    "    df['names'] = team_names[1::5]\n",
    "    df['matches'] = team_names[2::5]\n",
    "    df['points'] = team_names[3::5]\n",
    "    df['rating'] = team_names[4::5]\n",
    "    df['rating'] = df['rating'].str.extract('(\\d+)')\n",
    "    df['ranks'] = df['ranks'].str.extract('(\\d+)')\n",
    "    return(df.to_csv('Project_6_3.csv'))\n",
    "\n",
    "\n",
    "odi_allrounder_women(url = 'https://www.icc-cricket.com/rankings/womens/player-rankings/odi/all-rounder')"
   ]
  },
  {
   "cell_type": "code",
   "execution_count": 54,
   "metadata": {},
   "outputs": [
    {
     "data": {
      "application/javascript": [
       "\n",
       "        if (window._pyforest_update_imports_cell) { window._pyforest_update_imports_cell('import pandas as pd\\nimport numpy as np'); }\n",
       "    "
      ],
      "text/plain": [
       "<IPython.core.display.Javascript object>"
      ]
     },
     "metadata": {},
     "output_type": "display_data"
    },
    {
     "data": {
      "text/html": [
       "<div>\n",
       "<style scoped>\n",
       "    .dataframe tbody tr th:only-of-type {\n",
       "        vertical-align: middle;\n",
       "    }\n",
       "\n",
       "    .dataframe tbody tr th {\n",
       "        vertical-align: top;\n",
       "    }\n",
       "\n",
       "    .dataframe thead th {\n",
       "        text-align: right;\n",
       "    }\n",
       "</style>\n",
       "<table border=\"1\" class=\"dataframe\">\n",
       "  <thead>\n",
       "    <tr style=\"text-align: right;\">\n",
       "      <th></th>\n",
       "      <th>ranks</th>\n",
       "      <th>names</th>\n",
       "      <th>matches</th>\n",
       "      <th>points</th>\n",
       "      <th>rating</th>\n",
       "    </tr>\n",
       "  </thead>\n",
       "  <tbody>\n",
       "    <tr>\n",
       "      <th>0</th>\n",
       "      <td>1</td>\n",
       "      <td>Ellyse Perry</td>\n",
       "      <td>AUS</td>\n",
       "      <td>460</td>\n",
       "      <td>548</td>\n",
       "    </tr>\n",
       "    <tr>\n",
       "      <th>1</th>\n",
       "      <td>2</td>\n",
       "      <td>Marizanne Kapp</td>\n",
       "      <td>SA</td>\n",
       "      <td>418</td>\n",
       "      <td>418</td>\n",
       "    </tr>\n",
       "    <tr>\n",
       "      <th>2</th>\n",
       "      <td>3</td>\n",
       "      <td>Stafanie Taylor</td>\n",
       "      <td>WI</td>\n",
       "      <td>410</td>\n",
       "      <td>559</td>\n",
       "    </tr>\n",
       "    <tr>\n",
       "      <th>3</th>\n",
       "      <td>4</td>\n",
       "      <td>Natalie Sciver</td>\n",
       "      <td>ENG</td>\n",
       "      <td>349</td>\n",
       "      <td>349</td>\n",
       "    </tr>\n",
       "    <tr>\n",
       "      <th>4</th>\n",
       "      <td>5</td>\n",
       "      <td>Deepti Sharma</td>\n",
       "      <td>IND</td>\n",
       "      <td>343</td>\n",
       "      <td>397</td>\n",
       "    </tr>\n",
       "    <tr>\n",
       "      <th>5</th>\n",
       "      <td>6</td>\n",
       "      <td>Jess Jonassen</td>\n",
       "      <td>AUS</td>\n",
       "      <td>301</td>\n",
       "      <td>308</td>\n",
       "    </tr>\n",
       "    <tr>\n",
       "      <th>6</th>\n",
       "      <td>7</td>\n",
       "      <td>Sophie Devine</td>\n",
       "      <td>NZ</td>\n",
       "      <td>274</td>\n",
       "      <td>305</td>\n",
       "    </tr>\n",
       "    <tr>\n",
       "      <th>7</th>\n",
       "      <td>8</td>\n",
       "      <td>Dane van Niekerk</td>\n",
       "      <td>SA</td>\n",
       "      <td>243</td>\n",
       "      <td>421</td>\n",
       "    </tr>\n",
       "    <tr>\n",
       "      <th>8</th>\n",
       "      <td>9</td>\n",
       "      <td>Katherine Brunt</td>\n",
       "      <td>ENG</td>\n",
       "      <td>236</td>\n",
       "      <td>270</td>\n",
       "    </tr>\n",
       "    <tr>\n",
       "      <th>9</th>\n",
       "      <td>10</td>\n",
       "      <td>Ashleigh Gardner</td>\n",
       "      <td>AUS</td>\n",
       "      <td>223</td>\n",
       "      <td>241</td>\n",
       "    </tr>\n",
       "  </tbody>\n",
       "</table>\n",
       "</div>"
      ],
      "text/plain": [
       "   ranks             names matches  points  rating\n",
       "0      1      Ellyse Perry     AUS     460     548\n",
       "1      2    Marizanne Kapp      SA     418     418\n",
       "2      3   Stafanie Taylor      WI     410     559\n",
       "3      4    Natalie Sciver     ENG     349     349\n",
       "4      5     Deepti Sharma     IND     343     397\n",
       "5      6     Jess Jonassen     AUS     301     308\n",
       "6      7     Sophie Devine      NZ     274     305\n",
       "7      8  Dane van Niekerk      SA     243     421\n",
       "8      9   Katherine Brunt     ENG     236     270\n",
       "9     10  Ashleigh Gardner     AUS     223     241"
      ]
     },
     "execution_count": 54,
     "metadata": {},
     "output_type": "execute_result"
    }
   ],
   "source": [
    "odi_ar_women = pd.read_csv('Project_6_3.csv')\n",
    "odi_ar_women.drop('Unnamed: 0',axis = 1,inplace = True)\n",
    "odi_ar_women.head(10)"
   ]
  },
  {
   "cell_type": "markdown",
   "metadata": {},
   "source": [
    "## 7. Write a python program to scrape details of all the mobile phones under Rs. 20,000 listed on Amazon.in. The scraped data should include Product Name, Price, Image URL and Average Rating."
   ]
  },
  {
   "cell_type": "code",
   "execution_count": 55,
   "metadata": {},
   "outputs": [
    {
     "data": {
      "application/javascript": [
       "\n",
       "        if (window._pyforest_update_imports_cell) { window._pyforest_update_imports_cell('import pandas as pd\\nimport numpy as np'); }\n",
       "    "
      ],
      "text/plain": [
       "<IPython.core.display.Javascript object>"
      ]
     },
     "metadata": {},
     "output_type": "display_data"
    }
   ],
   "source": [
    "def amazon(URL = None):\n",
    "    HEADERS = ({'User-Agent':'Mozilla/5.0 (X11; Linux x86_64) AppleWebKit/537.36 (KHTML, like Gecko) Chrome/44.0.2403.157 Safari/537.36',\n",
    "            'Accept-Language': 'en-US, en;q=0.5'})\n",
    "    \n",
    "    webpage = requests.get(URL, headers=HEADERS)\n",
    "    soup = BeautifulSoup(webpage.content, 'lxml')\n",
    "    product_name = [x.text for x in soup.find_all('span', class_= \"a-size-base-plus a-color-base a-text-normal\")]\n",
    "    price = [x.text for x in soup.find_all('span', class_ = 'a-price-whole')]\n",
    "    img = soup.find_all('img', class_ = 's-image')\n",
    "    image = []\n",
    "    for i in img:\n",
    "        image.append(i.get('src'))\n",
    "    \n",
    "    \n",
    "    rating = [x.text for x in soup.find_all('span', class_ = 'a-icon-alt')]\n",
    "    df = pd.DataFrame({})\n",
    "    df['product_name']= product_name[3:23]\n",
    "    df['price'] = price[3:23]\n",
    "    df['image_url'] = image[3:23]\n",
    "    df['rating']=rating[3:23]\n",
    "    df['rating'] = df['rating'].str.extract('(\\d+)', expand = False).astype(float)\n",
    "    return(df.to_csv('Project_7.csv'))\n",
    "\n",
    "\n",
    "amazon(URL = 'https://www.amazon.in/s?i=electronics&bbn=1389401031&rh=n%3A976419031%2Cn%3A1389401031%2Cn%3A1389432031%2Cp_36%3A-2000000&dc&qid=1616747262&rnid=1389401031&ref=sr_nr_n_3')"
   ]
  },
  {
   "cell_type": "code",
   "execution_count": 58,
   "metadata": {},
   "outputs": [
    {
     "data": {
      "application/javascript": [
       "\n",
       "        if (window._pyforest_update_imports_cell) { window._pyforest_update_imports_cell('import pandas as pd\\nimport numpy as np'); }\n",
       "    "
      ],
      "text/plain": [
       "<IPython.core.display.Javascript object>"
      ]
     },
     "metadata": {},
     "output_type": "display_data"
    },
    {
     "data": {
      "text/html": [
       "<div>\n",
       "<style scoped>\n",
       "    .dataframe tbody tr th:only-of-type {\n",
       "        vertical-align: middle;\n",
       "    }\n",
       "\n",
       "    .dataframe tbody tr th {\n",
       "        vertical-align: top;\n",
       "    }\n",
       "\n",
       "    .dataframe thead th {\n",
       "        text-align: right;\n",
       "    }\n",
       "</style>\n",
       "<table border=\"1\" class=\"dataframe\">\n",
       "  <thead>\n",
       "    <tr style=\"text-align: right;\">\n",
       "      <th></th>\n",
       "      <th>product_name</th>\n",
       "      <th>price</th>\n",
       "      <th>image_url</th>\n",
       "      <th>rating</th>\n",
       "    </tr>\n",
       "  </thead>\n",
       "  <tbody>\n",
       "    <tr>\n",
       "      <th>0</th>\n",
       "      <td>Redmi Note 10 (Shadow Black, 6GB RAM, 128GB St...</td>\n",
       "      <td>13,999</td>\n",
       "      <td>https://m.media-amazon.com/images/I/71IqJQM2st...</td>\n",
       "      <td>4.0</td>\n",
       "    </tr>\n",
       "    <tr>\n",
       "      <th>1</th>\n",
       "      <td>Redmi Note 10 Pro Max (Glacial Blue, 6GB RAM, ...</td>\n",
       "      <td>19,999</td>\n",
       "      <td>https://m.media-amazon.com/images/I/719iIpuMQb...</td>\n",
       "      <td>4.0</td>\n",
       "    </tr>\n",
       "    <tr>\n",
       "      <th>2</th>\n",
       "      <td>Samsung Galaxy M12 (Blue,4GB RAM, 64GB Storage...</td>\n",
       "      <td>10,999</td>\n",
       "      <td>https://m.media-amazon.com/images/I/71yYaNztZ0...</td>\n",
       "      <td>3.0</td>\n",
       "    </tr>\n",
       "    <tr>\n",
       "      <th>3</th>\n",
       "      <td>Redmi 9A (Nature Green, 2GB Ram, 32GB Storage)...</td>\n",
       "      <td>6,799</td>\n",
       "      <td>https://m.media-amazon.com/images/I/71sxlhYhKW...</td>\n",
       "      <td>4.0</td>\n",
       "    </tr>\n",
       "    <tr>\n",
       "      <th>4</th>\n",
       "      <td>Redmi 9 (Carbon Black, 4GB RAM, 64GB Storage)</td>\n",
       "      <td>8,799</td>\n",
       "      <td>https://m.media-amazon.com/images/I/716nHhG9SW...</td>\n",
       "      <td>4.0</td>\n",
       "    </tr>\n",
       "    <tr>\n",
       "      <th>5</th>\n",
       "      <td>Redmi 9 (Sporty Orange, 4GB RAM, 64GB Storage)</td>\n",
       "      <td>8,799</td>\n",
       "      <td>https://m.media-amazon.com/images/I/71A9Vo1Bat...</td>\n",
       "      <td>4.0</td>\n",
       "    </tr>\n",
       "    <tr>\n",
       "      <th>6</th>\n",
       "      <td>Redmi 9 Prime (Mint Green, 4GB RAM, 64GB Stora...</td>\n",
       "      <td>9,499</td>\n",
       "      <td>https://m.media-amazon.com/images/I/71U2SiHgbi...</td>\n",
       "      <td>4.0</td>\n",
       "    </tr>\n",
       "    <tr>\n",
       "      <th>7</th>\n",
       "      <td>Redmi Note 10 Pro Max (Dark Night, 6GB RAM, 12...</td>\n",
       "      <td>19,999</td>\n",
       "      <td>https://m.media-amazon.com/images/I/71KpSRjGKz...</td>\n",
       "      <td>4.0</td>\n",
       "    </tr>\n",
       "    <tr>\n",
       "      <th>8</th>\n",
       "      <td>Redmi Note 10 (Frost White, 6GB RAM, 128GB Sto...</td>\n",
       "      <td>13,999</td>\n",
       "      <td>https://m.media-amazon.com/images/I/71yNlZ4dVZ...</td>\n",
       "      <td>4.0</td>\n",
       "    </tr>\n",
       "    <tr>\n",
       "      <th>9</th>\n",
       "      <td>Redmi 9 Prime (Space Blue, 4GB RAM, 64GB Stora...</td>\n",
       "      <td>9,499</td>\n",
       "      <td>https://m.media-amazon.com/images/I/71U2SiHgbi...</td>\n",
       "      <td>4.0</td>\n",
       "    </tr>\n",
       "    <tr>\n",
       "      <th>10</th>\n",
       "      <td>Redmi Note 9 (Pebble Grey, 4GB RAM 64GB Storag...</td>\n",
       "      <td>10,999</td>\n",
       "      <td>https://m.media-amazon.com/images/I/71X5I1cVfb...</td>\n",
       "      <td>4.0</td>\n",
       "    </tr>\n",
       "    <tr>\n",
       "      <th>11</th>\n",
       "      <td>Redmi Note 10 Pro Max (Vintage Bronze, 6GB RAM...</td>\n",
       "      <td>19,999</td>\n",
       "      <td>https://m.media-amazon.com/images/I/71i5BHw4RY...</td>\n",
       "      <td>4.0</td>\n",
       "    </tr>\n",
       "    <tr>\n",
       "      <th>12</th>\n",
       "      <td>Redmi Note 9 (Aqua Green, 4GB RAM, 64GB Storag...</td>\n",
       "      <td>10,999</td>\n",
       "      <td>https://m.media-amazon.com/images/I/71X5I1cVfb...</td>\n",
       "      <td>4.0</td>\n",
       "    </tr>\n",
       "    <tr>\n",
       "      <th>13</th>\n",
       "      <td>Redmi 9A (Midnight Black, 2GB RAM, 32GB Storag...</td>\n",
       "      <td>6,799</td>\n",
       "      <td>https://m.media-amazon.com/images/I/71sxlhYhKW...</td>\n",
       "      <td>4.0</td>\n",
       "    </tr>\n",
       "    <tr>\n",
       "      <th>14</th>\n",
       "      <td>Samsung Galaxy M31 (Ocean Blue, 6GB RAM, 128GB...</td>\n",
       "      <td>16,499</td>\n",
       "      <td>https://m.media-amazon.com/images/I/71-Su4Wr0H...</td>\n",
       "      <td>4.0</td>\n",
       "    </tr>\n",
       "    <tr>\n",
       "      <th>15</th>\n",
       "      <td>Samsung Galaxy M12 (Black,4GB RAM, 64GB Storag...</td>\n",
       "      <td>10,999</td>\n",
       "      <td>https://m.media-amazon.com/images/I/714QWDxXgN...</td>\n",
       "      <td>3.0</td>\n",
       "    </tr>\n",
       "    <tr>\n",
       "      <th>16</th>\n",
       "      <td>Redmi 9A (Sea Blue, 2GB Ram, 32GB Storage) | 2...</td>\n",
       "      <td>6,799</td>\n",
       "      <td>https://m.media-amazon.com/images/I/71sxlhYhKW...</td>\n",
       "      <td>4.0</td>\n",
       "    </tr>\n",
       "    <tr>\n",
       "      <th>17</th>\n",
       "      <td>Redmi 9 Power (Blazing Blue, 4GB RAM, 64GB Sto...</td>\n",
       "      <td>10,499</td>\n",
       "      <td>https://m.media-amazon.com/images/I/71hEzQGO5q...</td>\n",
       "      <td>4.0</td>\n",
       "    </tr>\n",
       "    <tr>\n",
       "      <th>18</th>\n",
       "      <td>Samsung Galaxy M12 (Blue,6GB RAM, 128GB Storag...</td>\n",
       "      <td>13,499</td>\n",
       "      <td>https://m.media-amazon.com/images/I/71yYaNztZ0...</td>\n",
       "      <td>3.0</td>\n",
       "    </tr>\n",
       "    <tr>\n",
       "      <th>19</th>\n",
       "      <td>Redmi 9 Prime (Matte Black, 4GB RAM, 64GB Stor...</td>\n",
       "      <td>9,499</td>\n",
       "      <td>https://m.media-amazon.com/images/I/71U2SiHgbi...</td>\n",
       "      <td>4.0</td>\n",
       "    </tr>\n",
       "  </tbody>\n",
       "</table>\n",
       "</div>"
      ],
      "text/plain": [
       "                                         product_name   price  \\\n",
       "0   Redmi Note 10 (Shadow Black, 6GB RAM, 128GB St...  13,999   \n",
       "1   Redmi Note 10 Pro Max (Glacial Blue, 6GB RAM, ...  19,999   \n",
       "2   Samsung Galaxy M12 (Blue,4GB RAM, 64GB Storage...  10,999   \n",
       "3   Redmi 9A (Nature Green, 2GB Ram, 32GB Storage)...   6,799   \n",
       "4       Redmi 9 (Carbon Black, 4GB RAM, 64GB Storage)   8,799   \n",
       "5      Redmi 9 (Sporty Orange, 4GB RAM, 64GB Storage)   8,799   \n",
       "6   Redmi 9 Prime (Mint Green, 4GB RAM, 64GB Stora...   9,499   \n",
       "7   Redmi Note 10 Pro Max (Dark Night, 6GB RAM, 12...  19,999   \n",
       "8   Redmi Note 10 (Frost White, 6GB RAM, 128GB Sto...  13,999   \n",
       "9   Redmi 9 Prime (Space Blue, 4GB RAM, 64GB Stora...   9,499   \n",
       "10  Redmi Note 9 (Pebble Grey, 4GB RAM 64GB Storag...  10,999   \n",
       "11  Redmi Note 10 Pro Max (Vintage Bronze, 6GB RAM...  19,999   \n",
       "12  Redmi Note 9 (Aqua Green, 4GB RAM, 64GB Storag...  10,999   \n",
       "13  Redmi 9A (Midnight Black, 2GB RAM, 32GB Storag...   6,799   \n",
       "14  Samsung Galaxy M31 (Ocean Blue, 6GB RAM, 128GB...  16,499   \n",
       "15  Samsung Galaxy M12 (Black,4GB RAM, 64GB Storag...  10,999   \n",
       "16  Redmi 9A (Sea Blue, 2GB Ram, 32GB Storage) | 2...   6,799   \n",
       "17  Redmi 9 Power (Blazing Blue, 4GB RAM, 64GB Sto...  10,499   \n",
       "18  Samsung Galaxy M12 (Blue,6GB RAM, 128GB Storag...  13,499   \n",
       "19  Redmi 9 Prime (Matte Black, 4GB RAM, 64GB Stor...   9,499   \n",
       "\n",
       "                                            image_url  rating  \n",
       "0   https://m.media-amazon.com/images/I/71IqJQM2st...     4.0  \n",
       "1   https://m.media-amazon.com/images/I/719iIpuMQb...     4.0  \n",
       "2   https://m.media-amazon.com/images/I/71yYaNztZ0...     3.0  \n",
       "3   https://m.media-amazon.com/images/I/71sxlhYhKW...     4.0  \n",
       "4   https://m.media-amazon.com/images/I/716nHhG9SW...     4.0  \n",
       "5   https://m.media-amazon.com/images/I/71A9Vo1Bat...     4.0  \n",
       "6   https://m.media-amazon.com/images/I/71U2SiHgbi...     4.0  \n",
       "7   https://m.media-amazon.com/images/I/71KpSRjGKz...     4.0  \n",
       "8   https://m.media-amazon.com/images/I/71yNlZ4dVZ...     4.0  \n",
       "9   https://m.media-amazon.com/images/I/71U2SiHgbi...     4.0  \n",
       "10  https://m.media-amazon.com/images/I/71X5I1cVfb...     4.0  \n",
       "11  https://m.media-amazon.com/images/I/71i5BHw4RY...     4.0  \n",
       "12  https://m.media-amazon.com/images/I/71X5I1cVfb...     4.0  \n",
       "13  https://m.media-amazon.com/images/I/71sxlhYhKW...     4.0  \n",
       "14  https://m.media-amazon.com/images/I/71-Su4Wr0H...     4.0  \n",
       "15  https://m.media-amazon.com/images/I/714QWDxXgN...     3.0  \n",
       "16  https://m.media-amazon.com/images/I/71sxlhYhKW...     4.0  \n",
       "17  https://m.media-amazon.com/images/I/71hEzQGO5q...     4.0  \n",
       "18  https://m.media-amazon.com/images/I/71yYaNztZ0...     3.0  \n",
       "19  https://m.media-amazon.com/images/I/71U2SiHgbi...     4.0  "
      ]
     },
     "execution_count": 58,
     "metadata": {},
     "output_type": "execute_result"
    }
   ],
   "source": [
    "phones = pd.read_csv('Project_7.csv')\n",
    "phones.drop('Unnamed: 0',axis = 1,inplace = True)\n",
    "phones"
   ]
  },
  {
   "cell_type": "markdown",
   "metadata": {},
   "source": [
    "## 8. Write a python program to extract information about the local weather from the National Weather Service website of USA, https://www.weather.gov/ for the city, San Francisco. You need to extract data about 7 day extended forecast display for the city. The data should include period, short description, temperature and description. "
   ]
  },
  {
   "cell_type": "code",
   "execution_count": 59,
   "metadata": {},
   "outputs": [
    {
     "data": {
      "application/javascript": [
       "\n",
       "        if (window._pyforest_update_imports_cell) { window._pyforest_update_imports_cell('import pandas as pd\\nimport numpy as np'); }\n",
       "    "
      ],
      "text/plain": [
       "<IPython.core.display.Javascript object>"
      ]
     },
     "metadata": {},
     "output_type": "display_data"
    }
   ],
   "source": [
    "def weather_report(url = None):\n",
    "    page = requests.get(url)\n",
    "    data = page.text\n",
    "    soup = BeautifulSoup(data, 'lxml')\n",
    "    Period = [x.text for x in soup.find_all('p', class_=\"period-name\")]\n",
    "    Short_desc = [x.text for x in soup.find_all('p', class_=\"short-desc\")]\n",
    "    Temp_high = [x.text for x in soup.find_all('p', class_=\"temp temp-high\")]\n",
    "    Temp_Low = [x.text for x in soup.find_all('p', class_=\"temp temp-low\")]\n",
    "    Desc = [x.text for x in soup.find_all('div', class_=\"col-sm-10 forecast-text\")]\n",
    "    def twolists(list1, list2):\n",
    "        newlist = []\n",
    "        a1 = len(list1)\n",
    "        a2 = len(list2)\n",
    "        for i in range(max(a1, a2)):\n",
    "            if i < a1:\n",
    "                newlist.append(list1[i])\n",
    "            if i < a2:\n",
    "                newlist.append(list2[i])\n",
    "\n",
    "        return newlist\n",
    "\n",
    "    temp = twolists(Temp_high,Temp_Low)\n",
    "    df = pd.DataFrame({})\n",
    "    df['Period'] = Period\n",
    "    df['Short_desc'] = Short_desc\n",
    "    df['temp'] = temp\n",
    "    df['Long_Desc'] = Desc[0:9]\n",
    "    \n",
    "    return(df.to_csv('Project_8.csv'))\n",
    "\n",
    "\n",
    "weather_report(url= 'https://forecast.weather.gov/MapClick.php?CityName=San+Francisco&state=CA&site=MTR&textField1=37.775&textField2=-122.418#.YFeTkXtR3IU')"
   ]
  },
  {
   "cell_type": "code",
   "execution_count": 60,
   "metadata": {},
   "outputs": [
    {
     "data": {
      "application/javascript": [
       "\n",
       "        if (window._pyforest_update_imports_cell) { window._pyforest_update_imports_cell('import pandas as pd\\nimport numpy as np'); }\n",
       "    "
      ],
      "text/plain": [
       "<IPython.core.display.Javascript object>"
      ]
     },
     "metadata": {},
     "output_type": "display_data"
    },
    {
     "data": {
      "text/html": [
       "<div>\n",
       "<style scoped>\n",
       "    .dataframe tbody tr th:only-of-type {\n",
       "        vertical-align: middle;\n",
       "    }\n",
       "\n",
       "    .dataframe tbody tr th {\n",
       "        vertical-align: top;\n",
       "    }\n",
       "\n",
       "    .dataframe thead th {\n",
       "        text-align: right;\n",
       "    }\n",
       "</style>\n",
       "<table border=\"1\" class=\"dataframe\">\n",
       "  <thead>\n",
       "    <tr style=\"text-align: right;\">\n",
       "      <th></th>\n",
       "      <th>Period</th>\n",
       "      <th>Short_desc</th>\n",
       "      <th>temp</th>\n",
       "      <th>Long_Desc</th>\n",
       "    </tr>\n",
       "  </thead>\n",
       "  <tbody>\n",
       "    <tr>\n",
       "      <th>0</th>\n",
       "      <td>Today</td>\n",
       "      <td>Sunny</td>\n",
       "      <td>High: 72 °F</td>\n",
       "      <td>Sunny, with a high near 72. North wind 7 to 10...</td>\n",
       "    </tr>\n",
       "    <tr>\n",
       "      <th>1</th>\n",
       "      <td>Tonight</td>\n",
       "      <td>Mostly Clear</td>\n",
       "      <td>Low: 47 °F</td>\n",
       "      <td>Mostly clear, with a low around 47. West north...</td>\n",
       "    </tr>\n",
       "    <tr>\n",
       "      <th>2</th>\n",
       "      <td>Saturday</td>\n",
       "      <td>Sunny</td>\n",
       "      <td>High: 74 °F</td>\n",
       "      <td>Sunny, with a high near 74. Calm wind becoming...</td>\n",
       "    </tr>\n",
       "    <tr>\n",
       "      <th>3</th>\n",
       "      <td>SaturdayNight</td>\n",
       "      <td>Mostly Clear</td>\n",
       "      <td>Low: 48 °F</td>\n",
       "      <td>Mostly clear, with a low around 48. West wind ...</td>\n",
       "    </tr>\n",
       "    <tr>\n",
       "      <th>4</th>\n",
       "      <td>Sunday</td>\n",
       "      <td>Sunny</td>\n",
       "      <td>High: 71 °F</td>\n",
       "      <td>Sunny, with a high near 71. Light west wind in...</td>\n",
       "    </tr>\n",
       "    <tr>\n",
       "      <th>5</th>\n",
       "      <td>SundayNight</td>\n",
       "      <td>Mostly Clear</td>\n",
       "      <td>Low: 48 °F</td>\n",
       "      <td>Mostly clear, with a low around 48.</td>\n",
       "    </tr>\n",
       "    <tr>\n",
       "      <th>6</th>\n",
       "      <td>Monday</td>\n",
       "      <td>Sunny</td>\n",
       "      <td>High: 65 °F</td>\n",
       "      <td>Sunny, with a high near 65.</td>\n",
       "    </tr>\n",
       "    <tr>\n",
       "      <th>7</th>\n",
       "      <td>MondayNight</td>\n",
       "      <td>Clear</td>\n",
       "      <td>Low: 48 °F</td>\n",
       "      <td>Clear, with a low around 48.</td>\n",
       "    </tr>\n",
       "    <tr>\n",
       "      <th>8</th>\n",
       "      <td>Tuesday</td>\n",
       "      <td>Sunny</td>\n",
       "      <td>High: 71 °F</td>\n",
       "      <td>Sunny, with a high near 71.</td>\n",
       "    </tr>\n",
       "  </tbody>\n",
       "</table>\n",
       "</div>"
      ],
      "text/plain": [
       "          Period    Short_desc         temp  \\\n",
       "0          Today         Sunny  High: 72 °F   \n",
       "1        Tonight  Mostly Clear   Low: 47 °F   \n",
       "2       Saturday         Sunny  High: 74 °F   \n",
       "3  SaturdayNight  Mostly Clear   Low: 48 °F   \n",
       "4         Sunday         Sunny  High: 71 °F   \n",
       "5    SundayNight  Mostly Clear   Low: 48 °F   \n",
       "6         Monday         Sunny  High: 65 °F   \n",
       "7    MondayNight         Clear   Low: 48 °F   \n",
       "8        Tuesday         Sunny  High: 71 °F   \n",
       "\n",
       "                                           Long_Desc  \n",
       "0  Sunny, with a high near 72. North wind 7 to 10...  \n",
       "1  Mostly clear, with a low around 47. West north...  \n",
       "2  Sunny, with a high near 74. Calm wind becoming...  \n",
       "3  Mostly clear, with a low around 48. West wind ...  \n",
       "4  Sunny, with a high near 71. Light west wind in...  \n",
       "5                Mostly clear, with a low around 48.  \n",
       "6                        Sunny, with a high near 65.  \n",
       "7                       Clear, with a low around 48.  \n",
       "8                        Sunny, with a high near 71.  "
      ]
     },
     "execution_count": 60,
     "metadata": {},
     "output_type": "execute_result"
    }
   ],
   "source": [
    "whtr = pd.read_csv('Project_8.csv')\n",
    "whtr.drop('Unnamed: 0',axis = 1,inplace = True)\n",
    "whtr"
   ]
  },
  {
   "cell_type": "markdown",
   "metadata": {},
   "source": [
    "## 9. Write a python program to scrape ‘software developer’ job listings from ‘Monster.com’. It should include all the jobs listed for the next 5 pages. "
   ]
  },
  {
   "cell_type": "code",
   "execution_count": 61,
   "metadata": {},
   "outputs": [
    {
     "data": {
      "text/plain": [
       "<Response [403]>"
      ]
     },
     "execution_count": 61,
     "metadata": {},
     "output_type": "execute_result"
    }
   ],
   "source": [
    "requests.get(url = 'https://www.monstergulf.com/srp/results?query=Software%20Developer,software%20development&searchId=721946ce-6082-455c-9442-ec2c0bccba86')"
   ]
  },
  {
   "cell_type": "markdown",
   "metadata": {},
   "source": [
    "Website dosent allow data scraping but loop can be used to scrape data from 5 subsequent pages"
   ]
  },
  {
   "cell_type": "markdown",
   "metadata": {},
   "source": [
    "## 10. Write a python program to scrape ‘data scientist’ job listings for location ‘New Delhi’ from ‘Monster.com’. It should include all the jobs listed for the next 5 pages"
   ]
  },
  {
   "cell_type": "code",
   "execution_count": 62,
   "metadata": {},
   "outputs": [
    {
     "data": {
      "text/plain": [
       "<Response [403]>"
      ]
     },
     "execution_count": 62,
     "metadata": {},
     "output_type": "execute_result"
    }
   ],
   "source": [
    "requests.get(url='https://www.monsterindia.com/srp/results?query=Data%20Scientist&locations=Delhi&searchId=5e30757d-9dd9-46ee-9e46-8f6035fe76ef')"
   ]
  },
  {
   "cell_type": "markdown",
   "metadata": {},
   "source": [
    "Website dosent allow data scraping but loop can be used to scrape data from 5 subsequent pages"
   ]
  }
 ],
 "metadata": {
  "kernelspec": {
   "display_name": "Python 3",
   "language": "python",
   "name": "python3"
  },
  "language_info": {
   "codemirror_mode": {
    "name": "ipython",
    "version": 3
   },
   "file_extension": ".py",
   "mimetype": "text/x-python",
   "name": "python",
   "nbconvert_exporter": "python",
   "pygments_lexer": "ipython3",
   "version": "3.8.3"
  }
 },
 "nbformat": 4,
 "nbformat_minor": 4
}
